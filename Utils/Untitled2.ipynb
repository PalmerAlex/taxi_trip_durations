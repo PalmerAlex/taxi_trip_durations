{
 "cells": [
  {
   "cell_type": "code",
   "execution_count": 1,
   "id": "6817c19c",
   "metadata": {},
   "outputs": [],
   "source": [
    "import pandas as pd\n",
    "taxi_data = pd.read_csv(\"Data/Pre_Processed/processed_data.csv\")"
   ]
  },
  {
   "cell_type": "code",
   "execution_count": 2,
   "id": "3ee10fa6",
   "metadata": {},
   "outputs": [
    {
     "name": "stdout",
     "output_type": "stream",
     "text": [
      "Epoch 1/5\n",
      "13571/13571 [==============================] - 28s 2ms/step - loss: 0.1611\n",
      "Epoch 2/5\n",
      "13571/13571 [==============================] - 27s 2ms/step - loss: 0.0974\n",
      "Epoch 3/5\n",
      "13571/13571 [==============================] - 27s 2ms/step - loss: 0.0960\n",
      "Epoch 4/5\n",
      "13571/13571 [==============================] - 27s 2ms/step - loss: 0.0955\n",
      "Epoch 5/5\n",
      "13571/13571 [==============================] - 28s 2ms/step - loss: 0.0949\n",
      "11633/11633 [==============================] - 16s 1ms/step\n",
      "R2 score: 0.7724502420791968\n",
      "MSE: 0.0938345256578618\n"
     ]
    }
   ],
   "source": [
    "import pandas as pd\n",
    "import numpy as np\n",
    "from sklearn.model_selection import train_test_split\n",
    "from sklearn.preprocessing import StandardScaler\n",
    "from sklearn.metrics import r2_score, mean_squared_error\n",
    "from keras.models import Sequential\n",
    "from keras.layers import Dense\n",
    "\n",
    "X_train, X_test, y_train, y_test = train_test_split(taxi_data.drop(['trip_duration'], axis=1), taxi_data['trip_duration'], test_size=0.3, random_state=42)\n",
    "model = Sequential()\n",
    "model.add(Dense(64, activation='relu', input_dim=X_train.shape[1]))\n",
    "model.add(Dense(32, activation='relu'))\n",
    "model.add(Dense(16, activation='relu'))\n",
    "model.add(Dense(1, activation='linear'))\n",
    "model.compile(loss='mean_squared_error', optimizer='adam')\n",
    "model.fit(X_train, y_train, epochs=5, batch_size=64)\n",
    "y_pred = model.predict(X_test)\n",
    "r2 = r2_score(y_test, y_pred)\n",
    "mse = mean_squared_error(y_test, y_pred)\n",
    "print('R2 score:', r2)\n",
    "print('MSE:', mse)\n"
   ]
  },
  {
   "cell_type": "code",
   "execution_count": 3,
   "id": "6e51bb58",
   "metadata": {},
   "outputs": [
    {
     "name": "stdout",
     "output_type": "stream",
     "text": [
      "You must install pydot (`pip install pydot`) and install graphviz (see instructions at https://graphviz.gitlab.io/download/) for plot_model to work.\n"
     ]
    }
   ],
   "source": [
    "from keras.utils.vis_utils import plot_model\n",
    "plot_model(model, to_file='ann_model.png', show_shapes=True, show_layer_names=True)"
   ]
  },
  {
   "cell_type": "code",
   "execution_count": 6,
   "id": "d04e832a",
   "metadata": {},
   "outputs": [
    {
     "name": "stdout",
     "output_type": "stream",
     "text": [
      "Requirement already satisfied: graphviz in c:\\users\\alexp\\anaconda3\\lib\\site-packages (0.20.1)\n",
      "Note: you may need to restart the kernel to use updated packages.\n"
     ]
    }
   ],
   "source": [
    "%pip install graphviz "
   ]
  },
  {
   "cell_type": "code",
   "execution_count": 10,
   "id": "3491d24b",
   "metadata": {},
   "outputs": [
    {
     "name": "stderr",
     "output_type": "stream",
     "text": [
      "WARNING:absl:Found untraced functions such as _update_step_xla while saving (showing 1 of 1). These functions will not be directly callable after loading.\n"
     ]
    },
    {
     "name": "stdout",
     "output_type": "stream",
     "text": [
      "INFO:tensorflow:Assets written to: my_model.pb\\assets\n"
     ]
    },
    {
     "name": "stderr",
     "output_type": "stream",
     "text": [
      "INFO:tensorflow:Assets written to: my_model.pb\\assets\n"
     ]
    },
    {
     "name": "stdout",
     "output_type": "stream",
     "text": [
      "Serving 'my_model.pb' at http://localhost:8080\n"
     ]
    },
    {
     "data": {
      "text/plain": [
       "('localhost', 8080)"
      ]
     },
     "execution_count": 10,
     "metadata": {},
     "output_type": "execute_result"
    }
   ],
   "source": [
    "import netron\n",
    "\n",
    "# Export your model to a format supported by Netron (e.g. ONNX or TensorFlow SavedModel)\n",
    "model.save(\"my_model.pb\") # Save the model in the TensorFlow SavedModel format\n",
    "\n",
    "# Launch Netron to visualize the model\n",
    "netron.start(\"my_model.pb\") # Launch Netron and load the model file\n"
   ]
  },
  {
   "cell_type": "code",
   "execution_count": 8,
   "id": "43b5ec20",
   "metadata": {},
   "outputs": [
    {
     "name": "stdout",
     "output_type": "stream",
     "text": [
      "Collecting netron\n",
      "  Downloading netron-6.7.7-py3-none-any.whl (1.6 MB)\n",
      "     ---------------------------------------- 1.6/1.6 MB 3.1 MB/s eta 0:00:00\n",
      "Installing collected packages: netron\n",
      "Successfully installed netron-6.7.7\n",
      "Note: you may need to restart the kernel to use updated packages.\n"
     ]
    }
   ],
   "source": [
    "%pip install netron\n"
   ]
  },
  {
   "cell_type": "code",
   "execution_count": null,
   "id": "e77c5a6c",
   "metadata": {},
   "outputs": [],
   "source": []
  }
 ],
 "metadata": {
  "kernelspec": {
   "display_name": "Python 3 (ipykernel)",
   "language": "python",
   "name": "python3"
  },
  "language_info": {
   "codemirror_mode": {
    "name": "ipython",
    "version": 3
   },
   "file_extension": ".py",
   "mimetype": "text/x-python",
   "name": "python",
   "nbconvert_exporter": "python",
   "pygments_lexer": "ipython3",
   "version": "3.9.13"
  }
 },
 "nbformat": 4,
 "nbformat_minor": 5
}
