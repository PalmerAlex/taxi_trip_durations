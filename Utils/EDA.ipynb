{
 "cells": [
  {
   "cell_type": "code",
   "execution_count": 1,
   "id": "bd86478d",
   "metadata": {},
   "outputs": [],
   "source": [
    "import pandas as pd"
   ]
  },
  {
   "cell_type": "code",
   "execution_count": 2,
   "id": "c4dca9d7",
   "metadata": {},
   "outputs": [],
   "source": [
    "taxi_train = pd.read_csv('Data/Raw/train.csv')"
   ]
  },
  {
   "cell_type": "code",
   "execution_count": 6,
   "id": "72dce04c",
   "metadata": {},
   "outputs": [
    {
     "name": "stdout",
     "output_type": "stream",
     "text": [
      "id                     object\n",
      "vendor_id               int64\n",
      "pickup_datetime        object\n",
      "dropoff_datetime       object\n",
      "passenger_count         int64\n",
      "pickup_longitude      float64\n",
      "pickup_latitude       float64\n",
      "dropoff_longitude     float64\n",
      "dropoff_latitude      float64\n",
      "store_and_fwd_flag     object\n",
      "trip_duration           int64\n",
      "dtype: object\n"
     ]
    }
   ],
   "source": [
    "print(taxi_train.dtypes)"
   ]
  },
  {
   "cell_type": "code",
   "execution_count": 7,
   "id": "70c8ea7c",
   "metadata": {},
   "outputs": [
    {
     "name": "stdout",
     "output_type": "stream",
     "text": [
      "       vendor_id  passenger_count  pickup_longitude  pickup_latitude  \\\n",
      "count    1458644          1458644           1458644          1458644   \n",
      "mean           2                2               -74               41   \n",
      "std            0                1                 0                0   \n",
      "min            1                0              -122               34   \n",
      "25%            1                1               -74               41   \n",
      "50%            2                1               -74               41   \n",
      "75%            2                2               -74               41   \n",
      "max            2                9               -61               52   \n",
      "\n",
      "       dropoff_longitude  dropoff_latitude  trip_duration  \n",
      "count            1458644           1458644        1458644  \n",
      "mean                 -74                41            959  \n",
      "std                    0                 0           5237  \n",
      "min                 -122                32              1  \n",
      "25%                  -74                41            397  \n",
      "50%                  -74                41            662  \n",
      "75%                  -74                41           1075  \n",
      "max                  -61                44        3526282  \n"
     ]
    }
   ],
   "source": [
    "integer_summary = taxi_train.describe().round().astype(int)\n",
    "print(integer_summary)\n"
   ]
  },
  {
   "cell_type": "code",
   "execution_count": 8,
   "id": "e5b34d85",
   "metadata": {},
   "outputs": [],
   "source": [
    "taxi_train = taxi_train.drop(\"dropoff_datetime\",axis=1)"
   ]
  },
  {
   "cell_type": "code",
   "execution_count": 9,
   "id": "a29bc7bc",
   "metadata": {},
   "outputs": [
    {
     "data": {
      "text/plain": [
       "array([2, 1], dtype=int64)"
      ]
     },
     "execution_count": 9,
     "metadata": {},
     "output_type": "execute_result"
    }
   ],
   "source": [
    "taxi_train['vendor_id'].unique()"
   ]
  },
  {
   "cell_type": "code",
   "execution_count": 10,
   "id": "bcb83296",
   "metadata": {},
   "outputs": [
    {
     "name": "stdout",
     "output_type": "stream",
     "text": [
      "Vendor ID 2: Mean Trip Duration = 1058.64\n",
      "Vendor ID 1: Mean Trip Duration = 845.44\n"
     ]
    }
   ],
   "source": [
    "vendor_ids = taxi_train['vendor_id'].unique()\n",
    "for vendor_id in vendor_ids:\n",
    "    mean_duration = taxi_train.loc[taxi_train['vendor_id'] == vendor_id, 'trip_duration'].mean()\n",
    "    print(f\"Vendor ID {vendor_id}: Mean Trip Duration = {mean_duration:.2f}\")"
   ]
  },
  {
   "cell_type": "markdown",
   "id": "f8589ec2",
   "metadata": {},
   "source": [
    "Vendor 2 has a greater mean trip duration than vendor 1"
   ]
  },
  {
   "cell_type": "code",
   "execution_count": 17,
   "id": "6e3631e5",
   "metadata": {},
   "outputs": [
    {
     "data": {
      "text/plain": [
       "213.20000000000005"
      ]
     },
     "execution_count": 17,
     "metadata": {},
     "output_type": "execute_result"
    }
   ],
   "source": [
    "1058.64 - 845.44"
   ]
  },
  {
   "cell_type": "code",
   "execution_count": null,
   "id": "1ed30101",
   "metadata": {},
   "outputs": [],
   "source": []
  }
 ],
 "metadata": {
  "kernelspec": {
   "display_name": "Python 3 (ipykernel)",
   "language": "python",
   "name": "python3"
  },
  "language_info": {
   "codemirror_mode": {
    "name": "ipython",
    "version": 3
   },
   "file_extension": ".py",
   "mimetype": "text/x-python",
   "name": "python",
   "nbconvert_exporter": "python",
   "pygments_lexer": "ipython3",
   "version": "3.9.13"
  }
 },
 "nbformat": 4,
 "nbformat_minor": 5
}
